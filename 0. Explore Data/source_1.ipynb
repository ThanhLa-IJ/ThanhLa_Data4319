{
 "cells": [
  {
   "cell_type": "markdown",
   "metadata": {},
   "source": [
    "---\n",
    "# $Breast Cancer Wisconsin (Diagnosis) Dataset$\n",
    "### Dataset Information:\n",
    "- https://www.kaggle.com/datasets/uciml/breast-cancer-wisconsin-data\n",
    "- https://archive.ics.uci.edu/ml/datasets/Breast+Cancer+Wisconsin+(Diagnostic)\n",
    "\n",
    "---"
   ]
  },
  {
   "cell_type": "markdown",
   "metadata": {},
   "source": [
    "# I. Exploring the Data "
   ]
  },
  {
   "cell_type": "code",
   "execution_count": 1,
   "metadata": {},
   "outputs": [],
   "source": [
    "import pandas as pd\n",
    "import numpy as np\n",
    "import seaborn as sns\n",
    "sns.set_theme()\n"
   ]
  },
  {
   "cell_type": "markdown",
   "metadata": {},
   "source": [
    "### 1. Import Data - Breast Cancer Wisconsin (Diagnosis)\n",
    "\n",
    "Features are computed from a digitized CT Scan image of a needle aspirate (FNA) of a breast mass. Those features describe the characteristic of the cell nuclei present in the image."
   ]
  },
  {
   "cell_type": "code",
   "execution_count": 2,
   "metadata": {},
   "outputs": [
    {
     "name": "stdout",
     "output_type": "stream",
     "text": [
      "<class 'pandas.core.frame.DataFrame'>\n",
      "RangeIndex: 569 entries, 0 to 568\n",
      "Data columns (total 32 columns):\n",
      " #   Column                   Non-Null Count  Dtype  \n",
      "---  ------                   --------------  -----  \n",
      " 0   id                       569 non-null    int64  \n",
      " 1   diagnosis                569 non-null    object \n",
      " 2   radius_mean              569 non-null    float64\n",
      " 3   texture_mean             569 non-null    float64\n",
      " 4   perimeter_mean           569 non-null    float64\n",
      " 5   area_mean                569 non-null    float64\n",
      " 6   smoothness_mean          569 non-null    float64\n",
      " 7   compactness_mean         569 non-null    float64\n",
      " 8   concavity_mean           569 non-null    float64\n",
      " 9   concave points_mean      569 non-null    float64\n",
      " 10  symmetry_mean            569 non-null    float64\n",
      " 11  fractal_dimension_mean   569 non-null    float64\n",
      " 12  radius_se                569 non-null    float64\n",
      " 13  texture_se               569 non-null    float64\n",
      " 14  perimeter_se             569 non-null    float64\n",
      " 15  area_se                  569 non-null    float64\n",
      " 16  smoothness_se            569 non-null    float64\n",
      " 17  compactness_se           569 non-null    float64\n",
      " 18  concavity_se             569 non-null    float64\n",
      " 19  concave points_se        569 non-null    float64\n",
      " 20  symmetry_se              569 non-null    float64\n",
      " 21  fractal_dimension_se     569 non-null    float64\n",
      " 22  radius_worst             569 non-null    float64\n",
      " 23  texture_worst            569 non-null    float64\n",
      " 24  perimeter_worst          569 non-null    float64\n",
      " 25  area_worst               569 non-null    float64\n",
      " 26  smoothness_worst         569 non-null    float64\n",
      " 27  compactness_worst        569 non-null    float64\n",
      " 28  concavity_worst          569 non-null    float64\n",
      " 29  concave points_worst     569 non-null    float64\n",
      " 30  symmetry_worst           569 non-null    float64\n",
      " 31  fractal_dimension_worst  569 non-null    float64\n",
      "dtypes: float64(30), int64(1), object(1)\n",
      "memory usage: 142.4+ KB\n"
     ]
    }
   ],
   "source": [
    "df = pd.read_csv(\"data.csv\")\n",
    "df.info()"
   ]
  },
  {
   "cell_type": "markdown",
   "metadata": {},
   "source": [
    "*Features:*\n",
    "1) ID number\n",
    "2) Diagnosis (M = malignant, B = benign)\n",
    "3-32)\n",
    "\n",
    "*The real-valued features are computed for each cell nucleus:*\n",
    "1) radius (mean of distances from center to points on the perimeter)\n",
    "2) texture (standard deviation of gray-scale values)\n",
    "3) perimeter\n",
    "4) area\n",
    "5) smoothness (local variation in radius lengths)\n",
    "6) compactness (perimeter^2 / area - 1.0)\n",
    "7) concavity (severity of concave portions of the contour)\n",
    "8) concave points (number of concave portions of the contour)\n",
    "9) symmetry\n",
    "10) fractal dimension (\"coastline approximation\" - 1)\n",
    "\n",
    "Each of these valued feature has its own 'mean', 'standard error', and 'worst'."
   ]
  },
  {
   "cell_type": "code",
   "execution_count": 3,
   "metadata": {},
   "outputs": [
    {
     "data": {
      "text/plain": [
       "<AxesSubplot:>"
      ]
     },
     "execution_count": 3,
     "metadata": {},
     "output_type": "execute_result"
    },
    {
     "data": {
      "image/png": "[encoded data removed]",
      "text/plain": [
       "<Figure size 432x288 with 1 Axes>"
      ]
     },
     "metadata": {},
     "output_type": "display_data"
    }
   ],
   "source": [
    "sns.heatmap(df.isnull(),\n",
    "            yticklabels=False,\n",
    "            cbar=False)"
   ]
  },
  {
   "cell_type": "markdown",
   "metadata": {},
   "source": [
    "For better work on this project, we should look at the correlation between those feature. "
   ]
  },
  {
   "cell_type": "code",
   "execution_count": null,
   "metadata": {},
   "outputs": [],
   "source": [
    "df = df.dropna(axis='columns')\n",
    "df = df.drop('id', axis = 1)\n",
    "sns.pairplot(df, hue = 'diagnosis')\n",
    "\n"
   ]
  },
  {
   "cell_type": "markdown",
   "metadata": {},
   "source": [
    "### 2. Apply Principal Component Analysis (PCA)\n",
    "However, we still using one of important techniques in Machine Learning for Dimensionality Reduction. Because the Feature vector in this dataset have a very large dimensions (up to 30 dimensions), and in addition the number of data points are often large. So if we perform storage and computation directly on data of this height, it will be difficult both in terms of storage and computation speed. Therefore, reducing the data dimension is an important step.\n",
    "\n",
    "The techniques we use is call PCA, This method is based on the observation that the data are not normally distributed randomly in space but are often distributed near certain special lines/surfaces. PCA considers a special case where such special faces have linear form as subspaces.\n",
    "\n"
   ]
  },
  {
   "cell_type": "code",
   "execution_count": 5,
   "metadata": {},
   "outputs": [],
   "source": [
    "X = df.drop('diagnosis', axis = 1).to_numpy()\n",
    "y = df['diagnosis'].to_numpy()"
   ]
  },
  {
   "cell_type": "markdown",
   "metadata": {},
   "source": [
    "#### PCA works:\n",
    "step1: Standardize (center and scale) the data\n",
    "\n",
    "step2: Compute the covariance or correlation matrix (S)"
   ]
  },
  {
   "cell_type": "code",
   "execution_count": 6,
   "metadata": {},
   "outputs": [
    {
     "name": "stdout",
     "output_type": "stream",
     "text": [
      "np.shape(U) = (569, 30)\n",
      "np.shape(sigma) = (30,)\n",
      "np.shape(Vt) = (30, 30) \n",
      "\n"
     ]
    }
   ],
   "source": [
    "A = X - X.mean(axis = 0)\n",
    "\n",
    "U, sigma, Vt = np.linalg.svd(A, full_matrices=False)\n",
    "\n",
    "print(f\"np.shape(U) = {np.shape(U)}\")\n",
    "print(f\"np.shape(sigma) = {np.shape(sigma)}\")\n",
    "print(f\"np.shape(Vt) = {np.shape(Vt)} \\n\")"
   ]
  },
  {
   "cell_type": "markdown",
   "metadata": {},
   "source": [
    "step3: Find the Eigenvalues and orthonormal eigenvector of S"
   ]
  },
  {
   "cell_type": "code",
   "execution_count": null,
   "metadata": {},
   "outputs": [],
   "source": [
    "sigma_mat = np.diag(sigma)\n",
    "print(f\"A == U * sigma_mat * Vt: {np.allclose(A, np.dot(U, np.dot(sigma_mat, Vt)))} \\n\")"
   ]
  },
  {
   "cell_type": "markdown",
   "metadata": {},
   "source": [
    "---"
   ]
  },
  {
   "cell_type": "code",
   "execution_count": 7,
   "metadata": {},
   "outputs": [],
   "source": [
    "df.to_csv('df_workfile.csv')  \n"
   ]
  }
 ],
 "metadata": {
  "interpreter": {
   "hash": "5b9638ce93fef76a781f54ce68ea329db09f67db32c68da4c5a22a175116cc69"
  },
  "kernelspec": {
   "display_name": "Python 3.9.11 ('major_project_env': venv)",
   "language": "python",
   "name": "python3"
  },
  "language_info": {
   "codemirror_mode": {
    "name": "ipython",
    "version": 3
   },
   "file_extension": ".py",
   "mimetype": "text/x-python",
   "name": "python",
   "nbconvert_exporter": "python",
   "pygments_lexer": "ipython3",
   "version": "3.9.12"
  },
  "orig_nbformat": 4
 },
 "nbformat": 4,
 "nbformat_minor": 2
}
